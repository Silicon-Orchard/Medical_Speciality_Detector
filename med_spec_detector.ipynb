{
 "cells": [
  {
   "cell_type": "code",
   "execution_count": 18,
   "metadata": {},
   "outputs": [],
   "source": [
    "import pandas as pd"
   ]
  },
  {
   "cell_type": "code",
   "execution_count": 19,
   "metadata": {},
   "outputs": [],
   "source": [
    "df = pd.read_csv('transcription_fresh.csv')"
   ]
  },
  {
   "cell_type": "code",
   "execution_count": 20,
   "metadata": {},
   "outputs": [
    {
     "data": {
      "text/html": [
       "<div>\n",
       "<style scoped>\n",
       "    .dataframe tbody tr th:only-of-type {\n",
       "        vertical-align: middle;\n",
       "    }\n",
       "\n",
       "    .dataframe tbody tr th {\n",
       "        vertical-align: top;\n",
       "    }\n",
       "\n",
       "    .dataframe thead th {\n",
       "        text-align: right;\n",
       "    }\n",
       "</style>\n",
       "<table border=\"1\" class=\"dataframe\">\n",
       "  <thead>\n",
       "    <tr style=\"text-align: right;\">\n",
       "      <th></th>\n",
       "      <th>medical_specialty</th>\n",
       "      <th>transcription</th>\n",
       "    </tr>\n",
       "  </thead>\n",
       "  <tbody>\n",
       "    <tr>\n",
       "      <th>0</th>\n",
       "      <td>Orthopedic</td>\n",
       "      <td>TITLE OF OPERATION: , Youngswick osteotomy wit...</td>\n",
       "    </tr>\n",
       "    <tr>\n",
       "      <th>1</th>\n",
       "      <td>Orthopedic</td>\n",
       "      <td>PREOPERATIVE DIAGNOSES:,1.  Hallux rigidus, le...</td>\n",
       "    </tr>\n",
       "    <tr>\n",
       "      <th>2</th>\n",
       "      <td>Orthopedic</td>\n",
       "      <td>CHIEF COMPLAINT:,  Left wrist pain.,HISTORY OF...</td>\n",
       "    </tr>\n",
       "    <tr>\n",
       "      <th>3</th>\n",
       "      <td>Orthopedic</td>\n",
       "      <td>PREOPERATIVE DIAGNOSIS: , Wrist ganglion.,POST...</td>\n",
       "    </tr>\n",
       "    <tr>\n",
       "      <th>4</th>\n",
       "      <td>Orthopedic</td>\n",
       "      <td>PREOPERATIVE DIAGNOSIS:,  T11 compression frac...</td>\n",
       "    </tr>\n",
       "  </tbody>\n",
       "</table>\n",
       "</div>"
      ],
      "text/plain": [
       "  medical_specialty                                      transcription\n",
       "0        Orthopedic  TITLE OF OPERATION: , Youngswick osteotomy wit...\n",
       "1        Orthopedic  PREOPERATIVE DIAGNOSES:,1.  Hallux rigidus, le...\n",
       "2        Orthopedic  CHIEF COMPLAINT:,  Left wrist pain.,HISTORY OF...\n",
       "3        Orthopedic  PREOPERATIVE DIAGNOSIS: , Wrist ganglion.,POST...\n",
       "4        Orthopedic  PREOPERATIVE DIAGNOSIS:,  T11 compression frac..."
      ]
     },
     "execution_count": 20,
     "metadata": {},
     "output_type": "execute_result"
    }
   ],
   "source": [
    "df.head()"
   ]
  },
  {
   "cell_type": "code",
   "execution_count": 21,
   "metadata": {},
   "outputs": [],
   "source": [
    "df = df.dropna(axis=0, subset=['transcription'])"
   ]
  },
  {
   "cell_type": "code",
   "execution_count": 22,
   "metadata": {
    "scrolled": true
   },
   "outputs": [
    {
     "data": {
      "text/plain": [
       " Surgery                       664\n",
       " Consult - History and Phy.    465\n",
       " Cardiovascular / Pulmonary    318\n",
       " Orthopedic                    316\n",
       "Name: medical_specialty, dtype: int64"
      ]
     },
     "execution_count": 22,
     "metadata": {},
     "output_type": "execute_result"
    }
   ],
   "source": [
    "df.medical_specialty.value_counts()"
   ]
  },
  {
   "cell_type": "code",
   "execution_count": 23,
   "metadata": {},
   "outputs": [
    {
     "data": {
      "text/plain": [
       "False    1763\n",
       "Name: transcription, dtype: int64"
      ]
     },
     "execution_count": 23,
     "metadata": {},
     "output_type": "execute_result"
    }
   ],
   "source": [
    "df.transcription.isnull().value_counts()"
   ]
  },
  {
   "cell_type": "code",
   "execution_count": 24,
   "metadata": {},
   "outputs": [],
   "source": [
    "######### balancing dataset\n",
    "balance_point = 316\n",
    "def balance_dataset(df):\n",
    "    df1 = df[df.medical_specialty == ' Consult - History and Phy.'].iloc[:balance_point]\n",
    "    df2 = df[df.medical_specialty == ' Cardiovascular / Pulmonary'].iloc[:balance_point]\n",
    "    df3 = df[df.medical_specialty == ' Orthopedic'].iloc[:balance_point]\n",
    "    df4 = df[df.medical_specialty == ' Surgery'].iloc[:balance_point]\n",
    "    \n",
    "    frames = [df1, df2, df3, df4]\n",
    "    return pd.concat(frames)\n",
    "\n",
    "df = balance_dataset(df)"
   ]
  },
  {
   "cell_type": "code",
   "execution_count": 25,
   "metadata": {},
   "outputs": [
    {
     "data": {
      "text/html": [
       "<div>\n",
       "<style scoped>\n",
       "    .dataframe tbody tr th:only-of-type {\n",
       "        vertical-align: middle;\n",
       "    }\n",
       "\n",
       "    .dataframe tbody tr th {\n",
       "        vertical-align: top;\n",
       "    }\n",
       "\n",
       "    .dataframe thead th {\n",
       "        text-align: right;\n",
       "    }\n",
       "</style>\n",
       "<table border=\"1\" class=\"dataframe\">\n",
       "  <thead>\n",
       "    <tr style=\"text-align: right;\">\n",
       "      <th></th>\n",
       "      <th>medical_specialty</th>\n",
       "      <th>transcription</th>\n",
       "    </tr>\n",
       "  </thead>\n",
       "  <tbody>\n",
       "    <tr>\n",
       "      <th>0</th>\n",
       "      <td>Consult - History and Phy.</td>\n",
       "      <td>SUBJECTIVE:,  The patient presents with Mom fo...</td>\n",
       "    </tr>\n",
       "    <tr>\n",
       "      <th>1</th>\n",
       "      <td>Consult - History and Phy.</td>\n",
       "      <td>CHIEF COMPLAINT:,  Worker’s compensation injur...</td>\n",
       "    </tr>\n",
       "    <tr>\n",
       "      <th>2</th>\n",
       "      <td>Consult - History and Phy.</td>\n",
       "      <td>SUBJECTIVE:,  Patient presents with Mom and Da...</td>\n",
       "    </tr>\n",
       "    <tr>\n",
       "      <th>3</th>\n",
       "      <td>Consult - History and Phy.</td>\n",
       "      <td>CHIEF COMPLAINT:,  The patient comes for her w...</td>\n",
       "    </tr>\n",
       "    <tr>\n",
       "      <th>4</th>\n",
       "      <td>Consult - History and Phy.</td>\n",
       "      <td>TYPE OF CONSULTATION:,  Wound care consult.,HI...</td>\n",
       "    </tr>\n",
       "  </tbody>\n",
       "</table>\n",
       "</div>"
      ],
      "text/plain": [
       "             medical_specialty  \\\n",
       "0   Consult - History and Phy.   \n",
       "1   Consult - History and Phy.   \n",
       "2   Consult - History and Phy.   \n",
       "3   Consult - History and Phy.   \n",
       "4   Consult - History and Phy.   \n",
       "\n",
       "                                       transcription  \n",
       "0  SUBJECTIVE:,  The patient presents with Mom fo...  \n",
       "1  CHIEF COMPLAINT:,  Worker’s compensation injur...  \n",
       "2  SUBJECTIVE:,  Patient presents with Mom and Da...  \n",
       "3  CHIEF COMPLAINT:,  The patient comes for her w...  \n",
       "4  TYPE OF CONSULTATION:,  Wound care consult.,HI...  "
      ]
     },
     "execution_count": 25,
     "metadata": {},
     "output_type": "execute_result"
    }
   ],
   "source": [
    "### shuffling the dataset\n",
    "#from sklearn.utils import shuffle\n",
    "#df = shuffle(df)\n",
    "df = df.reset_index(drop=True)\n",
    "df.head()"
   ]
  },
  {
   "cell_type": "code",
   "execution_count": null,
   "metadata": {},
   "outputs": [],
   "source": []
  },
  {
   "cell_type": "code",
   "execution_count": 26,
   "metadata": {},
   "outputs": [
    {
     "data": {
      "text/plain": [
       "(1264, 2)"
      ]
     },
     "execution_count": 26,
     "metadata": {},
     "output_type": "execute_result"
    }
   ],
   "source": [
    "df.shape"
   ]
  },
  {
   "cell_type": "code",
   "execution_count": 27,
   "metadata": {},
   "outputs": [
    {
     "data": {
      "text/plain": [
       "medical_specialty    object\n",
       "transcription        object\n",
       "dtype: object"
      ]
     },
     "execution_count": 27,
     "metadata": {},
     "output_type": "execute_result"
    }
   ],
   "source": [
    "df.dtypes"
   ]
  },
  {
   "cell_type": "code",
   "execution_count": 28,
   "metadata": {},
   "outputs": [],
   "source": [
    "df['medical_specialty'] = df['medical_specialty'].astype('category')"
   ]
  },
  {
   "cell_type": "code",
   "execution_count": 29,
   "metadata": {},
   "outputs": [],
   "source": [
    "df[\"medical_specialty_cat\"] = df[\"medical_specialty\"].cat.codes"
   ]
  },
  {
   "cell_type": "code",
   "execution_count": 30,
   "metadata": {},
   "outputs": [],
   "source": [
    "messages = df.transcription.tolist()"
   ]
  },
  {
   "cell_type": "code",
   "execution_count": 31,
   "metadata": {},
   "outputs": [],
   "source": [
    "########## finding map class to integer value #############\n",
    "class0 = df[df.medical_specialty_cat == 0].iloc[0].medical_specialty\n",
    "class1 = df[df.medical_specialty_cat == 1].iloc[0].medical_specialty\n",
    "class2 = df[df.medical_specialty_cat == 2].iloc[0].medical_specialty\n",
    "class3 = df[df.medical_specialty_cat == 3].iloc[0].medical_specialty\n",
    "classes = {0 : class0, 1 : class1, 2 : class2, 3 : class3}"
   ]
  },
  {
   "cell_type": "code",
   "execution_count": 32,
   "metadata": {},
   "outputs": [
    {
     "data": {
      "text/plain": [
       "{0: ' Cardiovascular / Pulmonary',\n",
       " 1: ' Consult - History and Phy.',\n",
       " 2: ' Orthopedic',\n",
       " 3: ' Surgery'}"
      ]
     },
     "execution_count": 32,
     "metadata": {},
     "output_type": "execute_result"
    }
   ],
   "source": [
    "classes"
   ]
  },
  {
   "cell_type": "code",
   "execution_count": 17,
   "metadata": {},
   "outputs": [],
   "source": [
    "#Data cleaning and preprocessing\n",
    "import re\n",
    "import nltk\n",
    "# nltk.download('stopwords')\n",
    "\n",
    "from nltk.corpus import stopwords\n",
    "from nltk.stem.porter import PorterStemmer\n",
    "from nltk.stem import WordNetLemmatizer\n",
    "ps = PorterStemmer()\n",
    "lemmatizer = WordNetLemmatizer()\n",
    "corpus = []\n",
    "\n",
    "for i in range(0, len(messages)):\n",
    "    message = re.sub('[^a-zA-Z]', ' ', str(messages[i]))\n",
    "    message = message.lower()\n",
    "    message = message.split()\n",
    "    \n",
    "    message = [lemmatizer.lemmatize(word) for word in message if not word in stopwords.words('english')]\n",
    "    message = ' '.join(message)\n",
    "    corpus.append(message)"
   ]
  },
  {
   "cell_type": "code",
   "execution_count": 18,
   "metadata": {},
   "outputs": [],
   "source": [
    "# Creating the TF-IDF model\n",
    "from sklearn.feature_extraction.text import TfidfVectorizer\n",
    "vectorizer = TfidfVectorizer()\n",
    "vectorizer = vectorizer.fit(corpus)\n",
    "X = vectorizer.transform(corpus).toarray()"
   ]
  },
  {
   "cell_type": "code",
   "execution_count": 19,
   "metadata": {},
   "outputs": [
    {
     "data": {
      "text/plain": [
       "(1264, 14758)"
      ]
     },
     "execution_count": 19,
     "metadata": {},
     "output_type": "execute_result"
    }
   ],
   "source": [
    "X.shape"
   ]
  },
  {
   "cell_type": "code",
   "execution_count": 20,
   "metadata": {},
   "outputs": [],
   "source": [
    "y = df[\"medical_specialty\"].cat.codes"
   ]
  },
  {
   "cell_type": "code",
   "execution_count": 21,
   "metadata": {},
   "outputs": [],
   "source": [
    "# Train Test Split\n",
    "from imblearn.over_sampling import SMOTE\n",
    "from sklearn.model_selection import train_test_split\n",
    "X_train, X_test, y_train, y_test = train_test_split(X, y, test_size = 0.20, random_state = 0)"
   ]
  },
  {
   "cell_type": "code",
   "execution_count": 22,
   "metadata": {},
   "outputs": [
    {
     "data": {
      "text/plain": [
       "(1011, 14758)"
      ]
     },
     "execution_count": 22,
     "metadata": {},
     "output_type": "execute_result"
    }
   ],
   "source": [
    "X_train.shape"
   ]
  },
  {
   "cell_type": "code",
   "execution_count": 23,
   "metadata": {},
   "outputs": [],
   "source": [
    "sm = SMOTE(random_state=2)\n",
    "X_train, y_train = sm.fit_sample(X_train, y_train.ravel())"
   ]
  },
  {
   "cell_type": "code",
   "execution_count": 24,
   "metadata": {},
   "outputs": [
    {
     "name": "stdout",
     "output_type": "stream",
     "text": [
      "[[  0 262]\n",
      " [  1 262]\n",
      " [  2 262]\n",
      " [  3 262]]\n"
     ]
    }
   ],
   "source": [
    "import numpy as np\n",
    "unique, counts = np.unique(y_train, return_counts=True)\n",
    "\n",
    "print(np.asarray((unique, counts)).T)"
   ]
  },
  {
   "cell_type": "code",
   "execution_count": 25,
   "metadata": {},
   "outputs": [],
   "source": [
    "# Training model using Naive bayes classifier\n",
    "\n",
    "from sklearn.naive_bayes import MultinomialNB\n",
    "from sklearn.neighbors import KNeighborsClassifier\n",
    "from sklearn.svm import SVC\n",
    "from sklearn.tree import DecisionTreeClassifier\n",
    "from sklearn.ensemble import RandomForestClassifier\n",
    "from sklearn.linear_model import LogisticRegression"
   ]
  },
  {
   "cell_type": "code",
   "execution_count": 26,
   "metadata": {},
   "outputs": [],
   "source": [
    "################# NB Classifier\n",
    "NB_model = MultinomialNB().fit(X_train, y_train)"
   ]
  },
  {
   "cell_type": "code",
   "execution_count": 27,
   "metadata": {},
   "outputs": [],
   "source": [
    "naive_bayes_prediction = NB_model.predict(X_test)"
   ]
  },
  {
   "cell_type": "code",
   "execution_count": 28,
   "metadata": {},
   "outputs": [
    {
     "name": "stdout",
     "output_type": "stream",
     "text": [
      "naive_bayes accuracy: 0.8221343873517787\n"
     ]
    }
   ],
   "source": [
    "from sklearn.metrics import accuracy_score, f1_score, precision_score, recall_score, classification_report, confusion_matrix\n",
    "\n",
    "print('naive_bayes accuracy: {}'.format(accuracy_score(y_test, naive_bayes_prediction)))"
   ]
  },
  {
   "cell_type": "code",
   "execution_count": 29,
   "metadata": {},
   "outputs": [
    {
     "data": {
      "text/plain": [
       "array([3, 1, 1, 1, 0, 3, 2, 2, 0, 1, 3, 3, 3, 1, 2, 3, 1, 2, 2, 1, 2, 0,\n",
       "       1, 1, 0, 0, 0, 0, 2, 1, 1, 3, 1, 2, 2, 3, 1, 1, 3, 1, 2, 1, 3, 1,\n",
       "       3, 0, 1, 1, 2, 1, 0, 2, 3, 0, 3, 0, 3, 3, 1, 1, 3, 0, 1, 2, 3, 3,\n",
       "       3, 0, 2, 1, 3, 3, 1, 1, 3, 1, 1, 2, 0, 0, 3, 2, 3, 3, 2, 3, 1, 2,\n",
       "       3, 1, 0, 0, 1, 1, 1, 0, 3, 2, 3, 0, 0, 2, 3, 2, 3, 2, 1, 0, 3, 0,\n",
       "       3, 1, 1, 0, 1, 0, 2, 1, 3, 2, 0, 2, 1, 2, 3, 0, 0, 1, 3, 2, 1, 2,\n",
       "       3, 1, 1, 1, 3, 0, 2, 3, 0, 3, 2, 0, 2, 3, 1, 1, 0, 2, 0, 1, 3, 0,\n",
       "       0, 3, 3, 2, 0, 0, 1, 1, 1, 0, 1, 2, 1, 0, 2, 3, 0, 2, 2, 1, 0, 3,\n",
       "       0, 0, 3, 1, 1, 3, 2, 3, 1, 3, 1, 1, 0, 1, 3, 3, 2, 2, 3, 1, 0, 2,\n",
       "       1, 1, 2, 0, 2, 3, 1, 1, 3, 0, 2, 1, 3, 1, 1, 3, 1, 0, 1, 0, 0, 1,\n",
       "       3, 1, 3, 3, 1, 0, 3, 1, 2, 1, 1, 0, 0, 2, 0, 1, 1, 1, 2, 3, 3, 0,\n",
       "       1, 2, 0, 1, 1, 2, 1, 3, 0, 2, 1], dtype=int8)"
      ]
     },
     "execution_count": 29,
     "metadata": {},
     "output_type": "execute_result"
    }
   ],
   "source": [
    "naive_bayes_prediction"
   ]
  },
  {
   "cell_type": "code",
   "execution_count": 30,
   "metadata": {},
   "outputs": [],
   "source": [
    "################# SVC Classifier\n",
    "SVC_model = SVC().fit(X_train, y_train)"
   ]
  },
  {
   "cell_type": "code",
   "execution_count": 31,
   "metadata": {},
   "outputs": [],
   "source": [
    "SVC_prediction = SVC_model.predict(X_test)"
   ]
  },
  {
   "cell_type": "code",
   "execution_count": 32,
   "metadata": {},
   "outputs": [
    {
     "data": {
      "text/plain": [
       "array([3, 1, 2, 1, 0, 3, 2, 2, 0, 2, 3, 3, 3, 1, 2, 3, 1, 2, 3, 1, 2, 0,\n",
       "       0, 1, 0, 0, 0, 0, 2, 1, 1, 3, 1, 2, 2, 3, 1, 1, 3, 1, 2, 1, 3, 1,\n",
       "       3, 0, 1, 1, 2, 1, 0, 2, 3, 0, 3, 0, 3, 3, 2, 1, 3, 0, 1, 2, 3, 3,\n",
       "       3, 0, 2, 1, 3, 3, 1, 1, 3, 1, 1, 2, 0, 0, 0, 2, 3, 3, 2, 3, 0, 2,\n",
       "       3, 1, 0, 0, 1, 1, 1, 0, 3, 2, 3, 0, 0, 2, 3, 2, 3, 2, 1, 0, 3, 0,\n",
       "       3, 1, 1, 0, 1, 0, 2, 2, 3, 2, 0, 2, 1, 2, 3, 0, 0, 0, 3, 2, 1, 2,\n",
       "       3, 2, 1, 1, 3, 0, 2, 0, 0, 3, 2, 0, 3, 3, 1, 1, 0, 2, 0, 2, 3, 3,\n",
       "       0, 0, 3, 2, 0, 0, 1, 1, 0, 0, 0, 3, 1, 0, 2, 3, 0, 2, 2, 1, 0, 3,\n",
       "       0, 0, 3, 1, 1, 3, 2, 3, 1, 0, 1, 1, 0, 1, 3, 3, 2, 2, 3, 2, 0, 2,\n",
       "       1, 1, 2, 0, 2, 3, 2, 1, 3, 0, 2, 1, 3, 1, 1, 3, 1, 0, 1, 0, 0, 1,\n",
       "       3, 1, 3, 3, 1, 0, 3, 0, 2, 2, 1, 0, 0, 2, 0, 0, 0, 1, 2, 3, 0, 0,\n",
       "       1, 2, 0, 0, 1, 2, 1, 3, 0, 2, 1], dtype=int8)"
      ]
     },
     "execution_count": 32,
     "metadata": {},
     "output_type": "execute_result"
    }
   ],
   "source": [
    "SVC_prediction"
   ]
  },
  {
   "cell_type": "code",
   "execution_count": 33,
   "metadata": {},
   "outputs": [
    {
     "name": "stdout",
     "output_type": "stream",
     "text": [
      "svc accuracy: 0.9051383399209486\n"
     ]
    }
   ],
   "source": [
    "print('svc accuracy: {}'.format(accuracy_score(y_test, SVC_prediction)))"
   ]
  },
  {
   "cell_type": "code",
   "execution_count": 34,
   "metadata": {},
   "outputs": [
    {
     "name": "stdout",
     "output_type": "stream",
     "text": [
      "skopt 0.8.1\n"
     ]
    }
   ],
   "source": [
    "import skopt\n",
    "print('skopt %s' % skopt.__version__)"
   ]
  },
  {
   "cell_type": "code",
   "execution_count": 35,
   "metadata": {},
   "outputs": [],
   "source": [
    "\n",
    "from numpy import mean\n",
    "from pandas import read_csv\n",
    "from sklearn.model_selection import cross_val_score\n",
    "from sklearn.model_selection import RepeatedStratifiedKFold\n",
    "from sklearn.svm import SVC\n",
    "from skopt.space import Integer\n",
    "from skopt.space import Real\n",
    "from skopt.space import Categorical\n",
    "from skopt.utils import use_named_args\n",
    "from skopt import gp_minimize\n",
    "from skopt import BayesSearchCV\n",
    "\n",
    "# define the space of hyperparameters to search\n",
    "params = dict()\n",
    "params['C'] = (1e-6, 100.0, 'log-uniform')\n",
    "params['gamma'] = (1e-6, 100.0, 'log-uniform')\n",
    "params['degree'] = (1,5)\n",
    "params['kernel'] = ['linear', 'poly', 'rbf', 'sigmoid']\n"
   ]
  },
  {
   "cell_type": "code",
   "execution_count": 36,
   "metadata": {},
   "outputs": [],
   "source": [
    "\n",
    "# define evaluation\n",
    "cv = RepeatedStratifiedKFold(n_splits=10, n_repeats=3, random_state=1)\n",
    "# define the search\n",
    "search = BayesSearchCV(estimator=SVC(), search_spaces=params, n_jobs=-1, cv=cv)"
   ]
  },
  {
   "cell_type": "code",
   "execution_count": 37,
   "metadata": {},
   "outputs": [
    {
     "data": {
      "text/plain": [
       "'\\n# perform the search\\nsearch.fit(X_train, y_train)\\n# report the best result\\nprint(search.best_score_)\\nprint(search.best_params_)\\n'"
      ]
     },
     "execution_count": 37,
     "metadata": {},
     "output_type": "execute_result"
    }
   ],
   "source": [
    "'''\n",
    "# perform the search\n",
    "search.fit(X_train, y_train)\n",
    "# report the best result\n",
    "print(search.best_score_)\n",
    "print(search.best_params_)\n",
    "'''"
   ]
  },
  {
   "cell_type": "code",
   "execution_count": null,
   "metadata": {},
   "outputs": [],
   "source": []
  },
  {
   "cell_type": "code",
   "execution_count": null,
   "metadata": {},
   "outputs": [],
   "source": []
  },
  {
   "cell_type": "code",
   "execution_count": 38,
   "metadata": {},
   "outputs": [],
   "source": [
    "import matplotlib.pyplot as plt\n",
    "def plot_confusion_matrix(cm, classes,x_label,\n",
    "                          normalize=False,\n",
    "                          title='Confusion matrix',\n",
    "                          cmap=plt.cm.winter):\n",
    "    if normalize:\n",
    "        cm = cm.astype('float') / cm.sum(axis=1)[:, np.newaxis]\n",
    "    plt.imshow(cm, interpolation='nearest', cmap=cmap)\n",
    "    plt.title(title, fontsize=20)\n",
    "    plt.colorbar()\n",
    "    tick_marks = np.arange(len(classes))\n",
    "    plt.xticks(tick_marks, classes, fontsize=10, rotation = 90)\n",
    "    plt.yticks(tick_marks, classes, fontsize=10)\n",
    "    \n",
    "    fmt = '.2f' if normalize else 'd'\n",
    "    thresh = cm.max() / 2.\n",
    "\n",
    "    for i, j in itertools.product(range(cm.shape[0]), range(cm.shape[1])):\n",
    "        plt.text(j, i, format(cm[i, j], fmt), horizontalalignment=\"center\", \n",
    "                 color=\"white\" if cm[i, j] < thresh else \"black\", fontsize=12)\n",
    "    \n",
    "    plt.tight_layout()\n",
    "    plt.ylabel('True label', fontsize=20)\n",
    "    plt.xlabel(x_label, fontsize=20)\n",
    "\n",
    "    return plt"
   ]
  },
  {
   "cell_type": "code",
   "execution_count": 39,
   "metadata": {},
   "outputs": [
    {
     "data": {
      "image/png": "[encoded data removed]",
      "text/plain": [
       "<Figure size 360x360 with 2 Axes>"
      ]
     },
     "metadata": {
      "needs_background": "light"
     },
     "output_type": "display_data"
    }
   ],
   "source": [
    "import matplotlib.pyplot as plt\n",
    "import numpy as np\n",
    "import itertools\n",
    "from itertools import combinations\n",
    "from sklearn.metrics import recall_score, confusion_matrix\n",
    "\n",
    "cm = confusion_matrix(y_test, SVC_prediction)\n",
    "fig = plt.figure(figsize=(5, 5))\n",
    "plot = plot_confusion_matrix(cm, classes=classes,x_label = \"SVC_prediction\",normalize=False, \n",
    "                             title='Confusion matrix')\n",
    "plt.show()"
   ]
  },
  {
   "cell_type": "code",
   "execution_count": 72,
   "metadata": {},
   "outputs": [],
   "source": [
    "################# KNN Classifier\n",
    "KNN_model = KNeighborsClassifier(n_neighbors=5).fit(X_train, y_train)"
   ]
  },
  {
   "cell_type": "code",
   "execution_count": 73,
   "metadata": {},
   "outputs": [],
   "source": [
    "KNN_prediction = KNN_model.predict(X_test)"
   ]
  },
  {
   "cell_type": "code",
   "execution_count": 74,
   "metadata": {},
   "outputs": [
    {
     "data": {
      "text/plain": [
       "array([0, 0, 2, 1, 0, 3, 2, 2, 0, 0, 0, 3, 0, 0, 2, 0, 1, 2, 3, 0, 2, 0,\n",
       "       0, 0, 0, 0, 0, 0, 2, 1, 0, 0, 0, 2, 2, 3, 2, 1, 3, 0, 2, 0, 3, 0,\n",
       "       3, 0, 0, 0, 2, 2, 0, 0, 3, 0, 3, 0, 3, 3, 2, 0, 3, 0, 1, 2, 3, 3,\n",
       "       3, 0, 2, 0, 3, 3, 1, 1, 3, 0, 0, 2, 0, 0, 0, 2, 3, 2, 2, 3, 0, 2,\n",
       "       0, 0, 0, 0, 0, 1, 0, 0, 0, 2, 3, 0, 0, 2, 3, 2, 3, 2, 0, 0, 3, 0,\n",
       "       3, 1, 0, 0, 1, 0, 2, 1, 3, 0, 0, 2, 0, 2, 3, 0, 0, 0, 0, 2, 1, 2,\n",
       "       3, 2, 1, 1, 0, 0, 0, 0, 0, 3, 2, 0, 0, 0, 0, 1, 0, 2, 0, 2, 3, 0,\n",
       "       0, 0, 3, 2, 0, 0, 0, 0, 0, 0, 0, 0, 0, 0, 2, 0, 0, 2, 2, 0, 0, 0,\n",
       "       0, 0, 3, 2, 1, 0, 2, 3, 0, 0, 0, 0, 0, 0, 0, 0, 2, 2, 3, 0, 0, 2,\n",
       "       0, 0, 2, 0, 2, 3, 2, 1, 3, 0, 2, 2, 0, 0, 0, 0, 0, 0, 0, 0, 0, 0,\n",
       "       0, 0, 0, 3, 0, 0, 3, 0, 2, 0, 0, 0, 0, 2, 0, 0, 0, 0, 0, 3, 0, 0,\n",
       "       0, 2, 0, 0, 0, 2, 1, 3, 0, 2, 0], dtype=int8)"
      ]
     },
     "execution_count": 74,
     "metadata": {},
     "output_type": "execute_result"
    }
   ],
   "source": [
    "KNN_prediction"
   ]
  },
  {
   "cell_type": "code",
   "execution_count": 43,
   "metadata": {},
   "outputs": [
    {
     "data": {
      "image/png": "[encoded data removed]",
      "text/plain": [
       "<Figure size 360x360 with 2 Axes>"
      ]
     },
     "metadata": {
      "needs_background": "light"
     },
     "output_type": "display_data"
    }
   ],
   "source": [
    "cm = confusion_matrix(y_test, KNN_prediction)\n",
    "fig = plt.figure(figsize=(5, 5))\n",
    "plot = plot_confusion_matrix(cm, classes=classes,x_label = \"KNN_prediction\",normalize=False, \n",
    "                             title='Confusion matrix')\n",
    "plt.show()"
   ]
  },
  {
   "cell_type": "code",
   "execution_count": 44,
   "metadata": {},
   "outputs": [],
   "source": [
    "################# DecisionTree Classifier\n",
    "DecisionTree_model = DecisionTreeClassifier(random_state=0).fit(X_train, y_train)"
   ]
  },
  {
   "cell_type": "code",
   "execution_count": 45,
   "metadata": {},
   "outputs": [],
   "source": [
    "decisionTree_prediction = DecisionTree_model.predict(X_test)"
   ]
  },
  {
   "cell_type": "code",
   "execution_count": 46,
   "metadata": {},
   "outputs": [
    {
     "data": {
      "text/plain": [
       "array([3, 1, 1, 1, 0, 3, 2, 2, 2, 3, 3, 0, 3, 1, 2, 3, 0, 2, 2, 1, 2, 2,\n",
       "       0, 1, 0, 0, 0, 0, 3, 1, 0, 3, 1, 3, 2, 3, 0, 1, 0, 1, 2, 1, 3, 1,\n",
       "       3, 0, 1, 1, 2, 1, 2, 2, 3, 0, 2, 0, 3, 3, 0, 2, 3, 0, 1, 2, 3, 3,\n",
       "       3, 0, 2, 2, 3, 3, 1, 1, 3, 0, 2, 2, 0, 1, 3, 2, 3, 3, 2, 3, 1, 2,\n",
       "       3, 1, 2, 0, 2, 2, 1, 0, 3, 2, 3, 3, 0, 2, 3, 2, 3, 2, 1, 0, 3, 0,\n",
       "       3, 1, 1, 0, 1, 3, 2, 1, 3, 2, 0, 2, 1, 2, 2, 0, 0, 1, 0, 2, 1, 2,\n",
       "       3, 2, 0, 1, 0, 0, 3, 3, 0, 3, 2, 0, 2, 0, 1, 1, 0, 3, 3, 1, 2, 3,\n",
       "       0, 3, 3, 2, 0, 0, 1, 1, 0, 0, 1, 2, 1, 0, 3, 3, 1, 2, 0, 0, 3, 0,\n",
       "       0, 0, 3, 2, 1, 3, 3, 3, 0, 0, 1, 1, 0, 1, 3, 3, 2, 2, 3, 1, 3, 0,\n",
       "       1, 1, 3, 0, 2, 3, 2, 2, 3, 0, 2, 1, 2, 1, 1, 0, 0, 0, 1, 0, 0, 1,\n",
       "       0, 1, 3, 3, 1, 0, 0, 0, 2, 1, 1, 3, 0, 2, 0, 1, 0, 1, 3, 3, 0, 0,\n",
       "       1, 2, 0, 0, 0, 2, 1, 0, 0, 2, 1], dtype=int8)"
      ]
     },
     "execution_count": 46,
     "metadata": {},
     "output_type": "execute_result"
    }
   ],
   "source": [
    "decisionTree_prediction"
   ]
  },
  {
   "cell_type": "code",
   "execution_count": 47,
   "metadata": {},
   "outputs": [
    {
     "data": {
      "image/png": "[encoded data removed]",
      "text/plain": [
       "<Figure size 360x360 with 2 Axes>"
      ]
     },
     "metadata": {
      "needs_background": "light"
     },
     "output_type": "display_data"
    }
   ],
   "source": [
    "cm = confusion_matrix(y_test, decisionTree_prediction)\n",
    "fig = plt.figure(figsize=(5, 5))\n",
    "plot = plot_confusion_matrix(cm, classes=classes,x_label = \"decisionTree_prediction\",normalize=False, \n",
    "                             title='Confusion matrix')\n",
    "plt.show()"
   ]
  },
  {
   "cell_type": "code",
   "execution_count": 48,
   "metadata": {},
   "outputs": [],
   "source": [
    "################# Random forest Classifier\n",
    "RandomForest_model=RandomForestClassifier(n_estimators=100).fit(X_train,y_train)"
   ]
  },
  {
   "cell_type": "code",
   "execution_count": 49,
   "metadata": {},
   "outputs": [],
   "source": [
    "random_forest_prediction=RandomForest_model.predict(X_test)"
   ]
  },
  {
   "cell_type": "code",
   "execution_count": 50,
   "metadata": {},
   "outputs": [
    {
     "data": {
      "text/plain": [
       "array([3, 1, 2, 1, 0, 3, 2, 2, 3, 1, 3, 3, 3, 1, 2, 3, 1, 2, 3, 1, 2, 0,\n",
       "       0, 1, 0, 0, 0, 0, 2, 1, 1, 3, 1, 2, 2, 3, 1, 1, 3, 1, 2, 1, 3, 1,\n",
       "       3, 0, 1, 1, 2, 1, 0, 2, 3, 0, 3, 0, 3, 3, 2, 1, 3, 0, 1, 2, 3, 3,\n",
       "       3, 0, 2, 1, 3, 3, 1, 1, 3, 1, 1, 2, 0, 0, 0, 2, 3, 3, 2, 3, 1, 3,\n",
       "       3, 1, 3, 0, 2, 1, 1, 0, 3, 2, 3, 0, 0, 2, 3, 2, 3, 2, 1, 0, 3, 0,\n",
       "       3, 1, 1, 0, 1, 0, 2, 1, 3, 2, 0, 2, 1, 2, 3, 0, 0, 1, 3, 2, 1, 2,\n",
       "       3, 1, 1, 1, 3, 0, 2, 3, 0, 3, 2, 0, 3, 3, 1, 1, 0, 3, 0, 1, 3, 3,\n",
       "       0, 3, 3, 2, 0, 0, 1, 1, 0, 0, 0, 3, 1, 0, 2, 3, 0, 2, 2, 1, 0, 3,\n",
       "       0, 0, 3, 1, 1, 3, 2, 3, 1, 0, 1, 1, 0, 1, 3, 3, 2, 2, 3, 1, 0, 2,\n",
       "       1, 1, 2, 0, 2, 3, 1, 1, 3, 1, 2, 1, 3, 1, 1, 3, 1, 0, 1, 0, 0, 1,\n",
       "       3, 1, 3, 3, 1, 0, 3, 0, 2, 2, 1, 3, 0, 2, 0, 1, 1, 1, 3, 3, 3, 0,\n",
       "       1, 2, 0, 0, 2, 2, 1, 3, 0, 2, 1], dtype=int8)"
      ]
     },
     "execution_count": 50,
     "metadata": {},
     "output_type": "execute_result"
    }
   ],
   "source": [
    "random_forest_prediction"
   ]
  },
  {
   "cell_type": "code",
   "execution_count": 51,
   "metadata": {},
   "outputs": [
    {
     "data": {
      "image/png": "[encoded data removed]",
      "text/plain": [
       "<Figure size 360x360 with 2 Axes>"
      ]
     },
     "metadata": {
      "needs_background": "light"
     },
     "output_type": "display_data"
    }
   ],
   "source": [
    "cm = confusion_matrix(y_test, random_forest_prediction)\n",
    "fig = plt.figure(figsize=(5, 5))\n",
    "plot = plot_confusion_matrix(cm, classes=classes,x_label = \"random_forest_prediction\",normalize=False, \n",
    "                             title='Confusion matrix')\n",
    "plt.show()"
   ]
  },
  {
   "cell_type": "code",
   "execution_count": 52,
   "metadata": {},
   "outputs": [],
   "source": [
    "#################LogisticRegression Classifier\n",
    "LogisticRegression_model = LogisticRegression(solver='liblinear', C=10.0, random_state=0).fit(X_train,y_train)"
   ]
  },
  {
   "cell_type": "code",
   "execution_count": 53,
   "metadata": {},
   "outputs": [],
   "source": [
    "LogisticRegression_prediction = LogisticRegression_model.predict(X_test)"
   ]
  },
  {
   "cell_type": "code",
   "execution_count": 54,
   "metadata": {},
   "outputs": [
    {
     "data": {
      "text/plain": [
       "array([3, 1, 2, 1, 0, 3, 2, 2, 0, 2, 3, 3, 3, 1, 2, 3, 1, 2, 3, 1, 2, 0,\n",
       "       0, 1, 0, 0, 0, 0, 2, 1, 1, 3, 1, 2, 2, 3, 1, 1, 3, 1, 2, 1, 3, 1,\n",
       "       3, 0, 1, 1, 2, 1, 0, 2, 3, 0, 3, 0, 3, 3, 2, 1, 3, 0, 1, 2, 3, 3,\n",
       "       3, 0, 2, 1, 3, 3, 1, 1, 3, 1, 1, 2, 0, 0, 0, 2, 3, 3, 2, 3, 0, 2,\n",
       "       3, 1, 0, 0, 2, 1, 1, 0, 3, 2, 3, 0, 0, 2, 3, 2, 3, 2, 1, 0, 3, 0,\n",
       "       3, 1, 2, 2, 1, 0, 2, 2, 3, 2, 0, 2, 1, 2, 3, 0, 0, 0, 3, 2, 1, 2,\n",
       "       3, 2, 1, 1, 3, 0, 2, 0, 0, 3, 2, 0, 3, 3, 1, 1, 0, 2, 0, 2, 3, 0,\n",
       "       0, 0, 3, 2, 0, 0, 1, 1, 0, 0, 0, 3, 1, 0, 2, 3, 0, 2, 2, 1, 0, 3,\n",
       "       0, 0, 3, 2, 1, 3, 2, 3, 1, 0, 1, 1, 0, 1, 3, 3, 2, 2, 3, 2, 0, 2,\n",
       "       1, 1, 2, 0, 2, 3, 2, 1, 3, 0, 2, 1, 3, 1, 1, 3, 0, 0, 1, 0, 0, 1,\n",
       "       3, 1, 3, 3, 1, 0, 3, 0, 2, 2, 1, 0, 0, 2, 0, 0, 0, 0, 2, 3, 0, 0,\n",
       "       1, 2, 0, 0, 1, 2, 1, 3, 0, 2, 1], dtype=int8)"
      ]
     },
     "execution_count": 54,
     "metadata": {},
     "output_type": "execute_result"
    }
   ],
   "source": [
    "LogisticRegression_prediction"
   ]
  },
  {
   "cell_type": "code",
   "execution_count": 55,
   "metadata": {},
   "outputs": [
    {
     "data": {
      "image/png": "[encoded data removed]",
      "text/plain": [
       "<Figure size 360x360 with 2 Axes>"
      ]
     },
     "metadata": {
      "needs_background": "light"
     },
     "output_type": "display_data"
    }
   ],
   "source": [
    "cm = confusion_matrix(y_test, LogisticRegression_prediction)\n",
    "fig = plt.figure(figsize=(5, 5))\n",
    "plot = plot_confusion_matrix(cm, classes=classes,x_label = \"LogisticRegression_prediction\",normalize=False, \n",
    "                             title='Confusion matrix')\n",
    "plt.show()"
   ]
  },
  {
   "cell_type": "code",
   "execution_count": 56,
   "metadata": {},
   "outputs": [
    {
     "name": "stdout",
     "output_type": "stream",
     "text": [
      "naive_bayes f1_score: 0.823521971975314\n",
      "KNN f1_score: 0.6382524406338715\n",
      "SVC f1_score: 0.9045815949894654\n",
      "Decision tree f1_score: 0.7182277248616346\n",
      "Random_forest f1_score: 0.8499234068627451\n",
      "LogisticRegression f1_score: 0.916107119337166\n"
     ]
    }
   ],
   "source": [
    "from sklearn.metrics import accuracy_score, f1_score, precision_score, recall_score, classification_report, confusion_matrix\n",
    "\n",
    "print('naive_bayes f1_score: {}'.format(f1_score(y_test,naive_bayes_prediction, average='macro')))\n",
    "print('KNN f1_score: {}'.format(f1_score(y_test,KNN_prediction, average='macro')))\n",
    "print('SVC f1_score: {}'.format(f1_score(y_test,SVC_prediction, average='macro')))\n",
    "print('Decision tree f1_score: {}'.format(f1_score(y_test,decisionTree_prediction, average='macro')))\n",
    "print('Random_forest f1_score: {}'.format(f1_score(y_test,random_forest_prediction, average='macro')))\n",
    "print('LogisticRegression f1_score: {}'.format(f1_score(y_test,LogisticRegression_prediction, average='macro')))"
   ]
  },
  {
   "cell_type": "code",
   "execution_count": 75,
   "metadata": {},
   "outputs": [
    {
     "name": "stdout",
     "output_type": "stream",
     "text": [
      "naive_bayes accuracy: 0.8221343873517787\n",
      "KNN accuracy: 0.7035573122529645\n",
      "SVC accuracy: 0.9051383399209486\n",
      "DecisionTree accuracy: 0.7154150197628458\n",
      "Random_forest accuracy: 0.849802371541502\n",
      "LogisticRegression accuracy: 0.9169960474308301\n"
     ]
    }
   ],
   "source": [
    "print('naive_bayes accuracy: {}'.format(accuracy_score(y_test, naive_bayes_prediction)))\n",
    "print('KNN accuracy: {}'.format(accuracy_score(y_test, KNN_prediction)))\n",
    "print('SVC accuracy: {}'.format(accuracy_score(y_test, SVC_prediction)))\n",
    "print('DecisionTree accuracy: {}'.format(accuracy_score(y_test, decisionTree_prediction)))\n",
    "print('Random_forest accuracy: {}'.format(accuracy_score(y_test, random_forest_prediction)))\n",
    "print('LogisticRegression accuracy: {}'.format(accuracy_score(y_test, LogisticRegression_prediction)))"
   ]
  },
  {
   "cell_type": "code",
   "execution_count": 76,
   "metadata": {},
   "outputs": [
    {
     "name": "stdout",
     "output_type": "stream",
     "text": [
      "naive_bayes recall_score: 0.8366015132408574\n",
      "KNN recall_score: 0.6727184624725608\n",
      "SVC recall_score: 0.9101974452384287\n",
      "Decision tree recall_score: 0.7220628415300547\n",
      "Random_forest recall_score: 0.8623522955490168\n",
      "LogisticRegression recall_score: 0.9201747933305311\n"
     ]
    }
   ],
   "source": [
    "print('naive_bayes recall_score: {}'.format(recall_score(y_test,naive_bayes_prediction, average='macro')))\n",
    "print('KNN recall_score: {}'.format(recall_score(y_test,KNN_prediction, average='macro')))\n",
    "print('SVC recall_score: {}'.format(recall_score(y_test,SVC_prediction, average='macro')))\n",
    "print('Decision tree recall_score: {}'.format(recall_score(y_test,decisionTree_prediction, average='macro')))\n",
    "print('Random_forest recall_score: {}'.format(recall_score(y_test,random_forest_prediction, average='macro')))\n",
    "print('LogisticRegression recall_score: {}'.format(recall_score(y_test,LogisticRegression_prediction, average='macro')))"
   ]
  },
  {
   "cell_type": "code",
   "execution_count": 77,
   "metadata": {},
   "outputs": [
    {
     "name": "stdout",
     "output_type": "stream",
     "text": [
      "naive_bayes precision_score: 0.8446595309810672\n",
      "KNN precision_score: 0.8199401334632532\n",
      "SVC precision_score: 0.9055512422360249\n",
      "Decision tree precision_score: 0.7168082967836258\n",
      "Random_forest precision_score: 0.8659285164827037\n",
      "LogisticRegression precision_score: 0.9144631228229593\n"
     ]
    }
   ],
   "source": [
    "print('naive_bayes precision_score: {}'.format(precision_score(y_test,naive_bayes_prediction, average='macro')))\n",
    "print('KNN precision_score: {}'.format(precision_score(y_test,KNN_prediction, average='macro')))\n",
    "print('SVC precision_score: {}'.format(precision_score(y_test,SVC_prediction, average='macro')))\n",
    "print('Decision tree precision_score: {}'.format(precision_score(y_test,decisionTree_prediction, average='macro')))\n",
    "print('Random_forest precision_score: {}'.format(precision_score(y_test,random_forest_prediction, average='macro')))\n",
    "print('LogisticRegression precision_score: {}'.format(precision_score(y_test,LogisticRegression_prediction, average='macro')))"
   ]
  },
  {
   "cell_type": "code",
   "execution_count": 60,
   "metadata": {},
   "outputs": [
    {
     "data": {
      "text/plain": [
       "array([[54, 16,  0,  8],\n",
       "       [ 0, 54,  0,  0],\n",
       "       [ 0, 13, 46,  2],\n",
       "       [ 2,  0,  4, 54]])"
      ]
     },
     "execution_count": 60,
     "metadata": {},
     "output_type": "execute_result"
    }
   ],
   "source": [
    "confusion_matrix(y_test, naive_bayes_prediction)"
   ]
  },
  {
   "cell_type": "code",
   "execution_count": 61,
   "metadata": {},
   "outputs": [],
   "source": [
    "from sklearn.ensemble import GradientBoostingClassifier\n",
    "model = GradientBoostingClassifier()"
   ]
  },
  {
   "cell_type": "code",
   "execution_count": 62,
   "metadata": {},
   "outputs": [
    {
     "data": {
      "text/plain": [
       "GradientBoostingClassifier()"
      ]
     },
     "execution_count": 62,
     "metadata": {},
     "output_type": "execute_result"
    }
   ],
   "source": [
    "model.fit(X_train, y_train)"
   ]
  },
  {
   "cell_type": "code",
   "execution_count": 63,
   "metadata": {},
   "outputs": [],
   "source": [
    "GBC_prediction = model.predict(X_test)"
   ]
  },
  {
   "cell_type": "code",
   "execution_count": 64,
   "metadata": {},
   "outputs": [
    {
     "name": "stdout",
     "output_type": "stream",
     "text": [
      "GradientBoostingClassifier f1_score: 0.8651601979128112\n"
     ]
    }
   ],
   "source": [
    "print('GradientBoostingClassifier f1_score: {}'.format(f1_score(y_test,GBC_prediction, average='macro')))"
   ]
  },
  {
   "cell_type": "code",
   "execution_count": 65,
   "metadata": {},
   "outputs": [
    {
     "name": "stdout",
     "output_type": "stream",
     "text": [
      "GradientBoostingClassifier accuracy: 0.8656126482213439\n"
     ]
    }
   ],
   "source": [
    "print('GradientBoostingClassifier accuracy: {}'.format(accuracy_score(y_test, GBC_prediction)))"
   ]
  },
  {
   "cell_type": "code",
   "execution_count": 66,
   "metadata": {},
   "outputs": [],
   "source": [
    "from xgboost import XGBClassifier"
   ]
  },
  {
   "cell_type": "code",
   "execution_count": 67,
   "metadata": {},
   "outputs": [
    {
     "data": {
      "text/plain": [
       "XGBClassifier(base_score=0.5, booster=None, colsample_bylevel=1,\n",
       "              colsample_bynode=1, colsample_bytree=1, gamma=0, gpu_id=-1,\n",
       "              importance_type='gain', interaction_constraints=None,\n",
       "              learning_rate=0.300000012, max_delta_step=0, max_depth=6,\n",
       "              min_child_weight=1, missing=nan, monotone_constraints=None,\n",
       "              n_estimators=100, n_jobs=0, num_parallel_tree=1,\n",
       "              objective='multi:softprob', random_state=0, reg_alpha=0,\n",
       "              reg_lambda=1, scale_pos_weight=None, subsample=1,\n",
       "              tree_method=None, validate_parameters=False, verbosity=None)"
      ]
     },
     "execution_count": 67,
     "metadata": {},
     "output_type": "execute_result"
    }
   ],
   "source": [
    "model = XGBClassifier()\n",
    "model.fit(X_train, y_train)"
   ]
  },
  {
   "cell_type": "code",
   "execution_count": 68,
   "metadata": {},
   "outputs": [],
   "source": [
    "XGB_prediction = model.predict(X_test)"
   ]
  },
  {
   "cell_type": "code",
   "execution_count": 69,
   "metadata": {},
   "outputs": [
    {
     "name": "stdout",
     "output_type": "stream",
     "text": [
      "XGBClassifier f1_score: 0.8408380397746624\n",
      "XGBClassifier accuracy: 0.8656126482213439\n"
     ]
    }
   ],
   "source": [
    "print('XGBClassifier f1_score: {}'.format(f1_score(y_test,XGB_prediction, average='macro')))\n",
    "print('XGBClassifier accuracy: {}'.format(accuracy_score(y_test, GBC_prediction)))"
   ]
  },
  {
   "cell_type": "code",
   "execution_count": null,
   "metadata": {},
   "outputs": [],
   "source": []
  },
  {
   "cell_type": "code",
   "execution_count": 70,
   "metadata": {},
   "outputs": [],
   "source": [
    "import pickle\n",
    "pickle_out = open(\"models/KNN_model.pkl\",\"wb\")\n",
    "pickle.dump(KNN_model, pickle_out)\n",
    "pickle_out.close()"
   ]
  },
  {
   "cell_type": "code",
   "execution_count": 71,
   "metadata": {},
   "outputs": [],
   "source": [
    "import pickle\n",
    "# saving models\n",
    "with open('models/NB_model.pickle', 'wb') as NB_modelhandle:\n",
    "    pickle.dump(NB_model, NB_modelhandle, protocol=pickle.HIGHEST_PROTOCOL)\n",
    "    NB_modelhandle.close()\n",
    "\n",
    "with open('models/SVC_model.pickle', 'wb') as SVC_modelhandle:\n",
    "    pickle.dump(SVC_model, SVC_modelhandle, protocol=pickle.HIGHEST_PROTOCOL)\n",
    "    SVC_modelhandle.close()\n",
    "    \n",
    "with open('models/KNN_model.pickle', 'wb') as KNN_modelhandle:\n",
    "    pickle.dump(KNN_model, KNN_modelhandle, protocol=pickle.HIGHEST_PROTOCOL)\n",
    "    KNN_modelhandle.close()\n",
    "    \n",
    "with open('models/DecisionTree_model.pickle', 'wb') as DecisionTree_modelhandle:\n",
    "    pickle.dump(DecisionTree_model, DecisionTree_modelhandle, protocol=pickle.HIGHEST_PROTOCOL)\n",
    "    DecisionTree_modelhandle.close()\n",
    "    \n",
    "with open('models/RandomForest_model.pickle', 'wb') as RandomForest_modelhandle:\n",
    "    pickle.dump(RandomForest_model, RandomForest_modelhandle, protocol=pickle.HIGHEST_PROTOCOL)\n",
    "    RandomForest_modelhandle.close()\n",
    "    \n",
    "with open('models/LogisticRegression_model.pickle', 'wb') as LogisticRegression_modelhandle:\n",
    "    pickle.dump(LogisticRegression_model, LogisticRegression_modelhandle, protocol=pickle.HIGHEST_PROTOCOL)\n",
    "    LogisticRegression_modelhandle.close()\n",
    "    \n",
    "with open('models/vectorizer.pickle', 'wb') as vectorizerhandle:\n",
    "    pickle.dump(vectorizer, vectorizerhandle, protocol=pickle.HIGHEST_PROTOCOL)\n",
    "    vectorizerhandle.close()\n"
   ]
  },
  {
   "cell_type": "code",
   "execution_count": 133,
   "metadata": {},
   "outputs": [
    {
     "name": "stdout",
     "output_type": "stream",
     "text": [
      "(1, 8)\n",
      "[[0.         0.         0.78980693 0.         0.         0.\n",
      "  0.         0.61335554]]\n"
     ]
    }
   ],
   "source": [
    "from sklearn.feature_extraction.text import TfidfVectorizer\n",
    "# list of text documents\n",
    "text = [\"The quick brown fox jumped over the lazy dog.\",\n",
    "\t\t\"The dog.\",\n",
    "\t\t\"The fox\"]\n",
    "test_text = 'the fox is bad'\n",
    "vectorizer = TfidfVectorizer()\n",
    "vectorizer.fit(text)\n",
    "\n",
    "# encode document\n",
    "vector = vectorizer.transform([test_text])\n",
    "# summarize encoded vector\n",
    "print(vector.shape)\n",
    "print(vector.toarray())"
   ]
  },
  {
   "cell_type": "code",
   "execution_count": 170,
   "metadata": {},
   "outputs": [],
   "source": [
    "with open('models/vectorizer.pickle', 'rb') as vectorizerhandle:\n",
    "    classical_vectorizer = pickle.load(vectorizerhandle)\n",
    "    vectorizerhandle.close()"
   ]
  },
  {
   "cell_type": "code",
   "execution_count": 172,
   "metadata": {},
   "outputs": [
    {
     "data": {
      "text/plain": [
       "array([[0., 0., 0., ..., 0., 0., 0.]])"
      ]
     },
     "execution_count": 172,
     "metadata": {},
     "output_type": "execute_result"
    }
   ],
   "source": [
    "vectorizer.transform([corpus[0]]).toarray()"
   ]
  },
  {
   "cell_type": "code",
   "execution_count": null,
   "metadata": {},
   "outputs": [],
   "source": []
  },
  {
   "cell_type": "code",
   "execution_count": 55,
   "metadata": {},
   "outputs": [],
   "source": []
  },
  {
   "cell_type": "code",
   "execution_count": 56,
   "metadata": {},
   "outputs": [],
   "source": []
  },
  {
   "cell_type": "code",
   "execution_count": 57,
   "metadata": {},
   "outputs": [
    {
     "data": {
      "text/plain": [
       "0"
      ]
     },
     "execution_count": 57,
     "metadata": {},
     "output_type": "execute_result"
    }
   ],
   "source": [
    "max_index"
   ]
  },
  {
   "cell_type": "code",
   "execution_count": null,
   "metadata": {},
   "outputs": [],
   "source": []
  }
 ],
 "metadata": {
  "kernelspec": {
   "display_name": "Python 3",
   "language": "python",
   "name": "python3"
  },
  "language_info": {
   "codemirror_mode": {
    "name": "ipython",
    "version": 3
   },
   "file_extension": ".py",
   "mimetype": "text/x-python",
   "name": "python",
   "nbconvert_exporter": "python",
   "pygments_lexer": "ipython3",
   "version": "3.7.7"
  }
 },
 "nbformat": 4,
 "nbformat_minor": 4
}
